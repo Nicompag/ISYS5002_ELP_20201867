{
  "nbformat": 4,
  "nbformat_minor": 0,
  "metadata": {
    "colab": {
      "name": "ISYS5002_ELP_20201867.ipynb",
      "provenance": [],
      "authorship_tag": "ABX9TyNBq2nQ8tfNkQd0bpzDqY3V",
      "include_colab_link": true
    },
    "kernelspec": {
      "name": "python3",
      "display_name": "Python 3"
    },
    "language_info": {
      "name": "python"
    }
  },
  "cells": [
    {
      "cell_type": "markdown",
      "metadata": {
        "id": "view-in-github",
        "colab_type": "text"
      },
      "source": [
        "<a href=\"https://colab.research.google.com/github/Nicompag/ISYS5002_ELP_20201867/blob/main/ISYS5002_ELP_20201867.ipynb\" target=\"_parent\"><img src=\"https://colab.research.google.com/assets/colab-badge.svg\" alt=\"Open In Colab\"/></a>"
      ]
    },
    {
      "cell_type": "markdown",
      "metadata": {
        "id": "6waE-CXe0ou5"
      },
      "source": [
        "2. A comment is an explanation or annotation in the source code of a computer program. Well commented functions are helpful to other programmers to understand the code better. The following function has no comments. Add some comments that explain the purpose and actions of the code in the following method."
      ]
    },
    {
      "cell_type": "code",
      "metadata": {
        "id": "Sbo7Ko-I0urB"
      },
      "source": [
        "def get_url(search_term, template): #this line defines a function. The function takes two inputs: search_term and template\n",
        "  search_term = search_term.replace(' ', '+') #this line replaces all ' ' in the input search_term with '+' and stores it in the variable search_term\n",
        "  url = template.format(search_term) #this line replaces '{}' in the input template with the variable search_term and stores it in the variable url\n",
        "  url += '&page={}' #this line adds '&page={}' to the end of the variable url\n",
        "  return url #this line returns the variable url "
      ],
      "execution_count": null,
      "outputs": []
    },
    {
      "cell_type": "markdown",
      "metadata": {
        "id": "PiFytnIX5Ao_"
      },
      "source": [
        "\n",
        "3. In computer programming there are three kinds of errors: syntax errors, runtime errors, and logic errors. The code fragment below is meant to calculate a car’s fuel economy after reading in the distance travelled and amount of petrol used. The fuel economy is calculated by the following formula: kmPerLitre = kilometers / litres. The code fragment contains both syntax and logic errors. Identify and correct at least five errors in the following code."
      ]
    },
    {
      "cell_type": "code",
      "metadata": {
        "id": "xqb4IgwN5B2_"
      },
      "source": [
        "#Original code\n",
        "\n",
        "def efficiency(dist, gas) #after the the first line of the function must be a ':'\n",
        "    return dist/gas #is too much indented (2 indents instead of 1)\n",
        "\n",
        "km = input (\"How far did your car travel? (In kilometers?) ) #there is a '\"' missing after the second last bracket, the input must be type float or int to perform the calculation of the defined function\n",
        "liters = input (\"How much gas did you use? (In liters)\" #there is a bracket \")\" missing at the end, the input must be type float or int to perform the calculation of the defined function\n",
        "\n",
        "MPG = efficiency(dist_traveled, Liters) #the variable dist_traveled is not defined, it should be the variable km, the variable Liters is not defined, it should be liters as python is case sensitive\n",
        "print MPG #there are two brackets missing \"(\" and \")\""
      ],
      "execution_count": null,
      "outputs": []
    },
    {
      "cell_type": "code",
      "metadata": {
        "id": "sCfPtIva5Yqp",
        "outputId": "c6fa8f87-476b-4576-c594-978840cc446e",
        "colab": {
          "base_uri": "https://localhost:8080/"
        }
      },
      "source": [
        "#Correct code\n",
        "\n",
        "def efficiency(dist, gas):\n",
        "  return dist/gas\n",
        "\n",
        "km = float(input(\"How far did your car travel? (In kilometers?)\" ))\n",
        "liters = float(input (\"How much gas did you use? (In liters)\"))\n",
        "\n",
        "MPG = efficiency(km, liters)\n",
        "print(MPG)"
      ],
      "execution_count": 4,
      "outputs": [
        {
          "output_type": "stream",
          "name": "stdout",
          "text": [
            "How far did your car travel? (In kilometers?)500\n",
            "How much gas did you use? (In liters)25\n",
            "20.0\n"
          ]
        }
      ]
    }
  ]
}