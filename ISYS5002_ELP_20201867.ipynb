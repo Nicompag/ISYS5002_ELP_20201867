{
  "nbformat": 4,
  "nbformat_minor": 0,
  "metadata": {
    "colab": {
      "name": "ISYS5002_ELP_20201867.ipynb",
      "provenance": [],
      "authorship_tag": "ABX9TyMOPxkwm8Ez9/Mk1gG6dabv",
      "include_colab_link": true
    },
    "kernelspec": {
      "name": "python3",
      "display_name": "Python 3"
    },
    "language_info": {
      "name": "python"
    }
  },
  "cells": [
    {
      "cell_type": "markdown",
      "metadata": {
        "id": "view-in-github",
        "colab_type": "text"
      },
      "source": [
        "<a href=\"https://colab.research.google.com/github/Nicompag/ISYS5002_ELP_20201867/blob/main/ISYS5002_ELP_20201867.ipynb\" target=\"_parent\"><img src=\"https://colab.research.google.com/assets/colab-badge.svg\" alt=\"Open In Colab\"/></a>"
      ]
    },
    {
      "cell_type": "markdown",
      "metadata": {
        "id": "6waE-CXe0ou5"
      },
      "source": [
        "2. A comment is an explanation or annotation in the source code of a computer program. Well commented functions are helpful to other programmers to understand the code better. The following function has no comments. Add some comments that explain the purpose and actions of the code in the following method."
      ]
    },
    {
      "cell_type": "code",
      "metadata": {
        "id": "Sbo7Ko-I0urB"
      },
      "source": [
        "def get_url(search_term, template): #this line defines a function. The function takes two inputs: search_term and template\n",
        "  search_term = search_term.replace(' ', '+') #this line replaces all ' ' in the input search_term with '+' and stores it in the variable search_term\n",
        "  url = template.format(search_term) #this line replaces '{}' in the input template with the variable search_term and stores it in the variable url\n",
        "  url += '&page={}' #this line adds '&page={}' to the end of the variable url\n",
        "  return url #this line returns the variable url "
      ],
      "execution_count": null,
      "outputs": []
    },
    {
      "cell_type": "markdown",
      "metadata": {
        "id": "PiFytnIX5Ao_"
      },
      "source": [
        "\n",
        "3. In computer programming there are three kinds of errors: syntax errors, runtime errors, and logic errors. The code fragment below is meant to calculate a car’s fuel economy after reading in the distance travelled and amount of petrol used. The fuel economy is calculated by the following formula: kmPerLitre = kilometers / litres. The code fragment contains both syntax and logic errors. Identify and correct at least five errors in the following code."
      ]
    },
    {
      "cell_type": "code",
      "metadata": {
        "id": "xqb4IgwN5B2_"
      },
      "source": [
        "#Original code\n",
        "\n",
        "def efficiency(dist, gas) #after the the first line of the function must be a ':'\n",
        "    return dist/gas #is too much indented (2 indents instead of 1)\n",
        "\n",
        "km = input (\"How far did your car travel? (In kilometers?) ) #there is a '\"' missing after the second last bracket, the input must be type float or int to perform the calculation of the defined function\n",
        "liters = input (\"How much gas did you use? (In liters)\" #there is a bracket \")\" missing at the end, the input must be type float or int to perform the calculation of the defined function\n",
        "\n",
        "MPG = efficiency(dist_traveled, Liters) #the variable dist_traveled is not defined, it should be the variable km, the variable Liters is not defined, it should be liters as python is case sensitive\n",
        "print MPG #there are two brackets missing \"(\" and \")\""
      ],
      "execution_count": null,
      "outputs": []
    },
    {
      "cell_type": "code",
      "metadata": {
        "id": "sCfPtIva5Yqp"
      },
      "source": [
        "#Correct code\n",
        "\n",
        "def efficiency(dist, gas):\n",
        "  return dist/gas\n",
        "\n",
        "km = float(input(\"How far did your car travel? (In kilometers?)\" ))\n",
        "liters = float(input (\"How much gas did you use? (In liters)\"))\n",
        "\n",
        "MPG = efficiency(km, liters)\n",
        "print(MPG)"
      ],
      "execution_count": null,
      "outputs": []
    },
    {
      "cell_type": "markdown",
      "metadata": {
        "id": "tD6f8U6k9byW"
      },
      "source": [
        "\n",
        "5. Write a program the reads in sales.csv and calculates the maximum, minimum and average profit for each country in the Australia and Oceania region. For each country in the Australia and Oceania region the plot their total profit. (Hint: read the CSV into a Pandas dataframe, create a new dataframe for the region, and use the new dataframe for the calculations and bar chart)"
      ]
    },
    {
      "cell_type": "code",
      "metadata": {
        "colab": {
          "base_uri": "https://localhost:8080/",
          "height": 783
        },
        "id": "uJff24n-9-2p",
        "outputId": "05bdaed9-4886-4c3c-88ec-2410b4a00c90"
      },
      "source": [
        "#import modules\n",
        "import pandas as pd\n",
        "import matplotlib.pyplot as plt\n",
        "\n",
        "\n",
        "data = pd.read_csv('sales.csv') #import the data from the csv file\n",
        "raw_data = data.loc[data[\"Region\"] == \"Australia and Oceania\"] #create a dataframe that only consists of countries from the region Australia and Oceania\n",
        "\n",
        "region = pd.DataFrame() #create a new and empty dataframe\n",
        "\n",
        "#Copy the information that is needed from the region dataframe to the new one\n",
        "region[\"Country\"] = raw_data[\"Country\"]\n",
        "region[\"Total Profit\"] = raw_data[\"Total Profit\"]\n",
        "\n",
        "aus = region.loc[region[\"Country\"] == \"Australia\"] #create a dataframe that consists only of Australian orders\n",
        "aus_mean = aus[\"Total Profit\"].mean() #calculate the mean of the Australian orders\n",
        "aus_min = aus[\"Total Profit\"].min() #get the minimum Australian order\n",
        "aus_max = aus[\"Total Profit\"].max() #get the maximum Australian order\n",
        "aus_total = aus[\"Total Profit\"].sum() #get the sum of all Australian orders\n",
        "\n",
        "region = region.drop_duplicates(subset = [\"Country\"], keep = \"first\") #delete double entries in the region dataframe\n",
        "region[\"Maximum Profit\"] = region[\"Total Profit\"] #create a new column Maximum Profit and set it equal to Total Profit\n",
        "region[\"Minimum Profit\"] = region[\"Total Profit\"] #create a new column Minumum Profit and set it equal to Total Profit\n",
        "region[\"Average Profit\"] = region[\"Total Profit\"] #create a new column Average Profit and set it equal to Total Profit\n",
        "\n",
        "region.at[32,\"Maximum Profit\"] = aus_max #update the Maximum Profit value for Australia with the calculated maximum value\n",
        "region.at[32,\"Minimum Profit\"] = aus_min #update the Minimum Profit value for Australia with the calculated minimum value\n",
        "region.at[32,\"Average Profit\"] = aus_mean #update the Average Profit value for Australia with the calculated average value\n",
        "region.at[32,\"Total Profit\"] = aus_total #update the Total Profit value for Australia with the calculated total value\n",
        "\n",
        "pd.set_option('display.max_columns', None) #change the options so that all columns are visible\n",
        "print(region) #output the dataframe\n",
        "\n",
        "ax = region.plot.bar(x='Country', y='Total Profit') #create a bar graph with the countries on the x axis and the Total Profit on the y axis\n",
        "plt.ylabel(\"Total Profit in $'000,000\") #update the y axis label\n",
        "plt.xlabel(\"\") #remove the x axis label\n",
        "plt.title(\"Total Profit of Countries in Australia and Oceania\") #create a title for the graph\n",
        "plt.show() #show the graph"
      ],
      "execution_count": 8,
      "outputs": [
        {
          "output_type": "stream",
          "name": "stdout",
          "text": [
            "                           Country  Total Profit  Maximum Profit  \\\n",
            "0                           Tuvalu     951410.50       951410.50   \n",
            "5                  Solomon Islands     285087.64       285087.64   \n",
            "19                      East Timor     337937.60       337937.60   \n",
            "23                     New Zealand       5270.67         5270.67   \n",
            "26                        Kiribati      13009.18        13009.18   \n",
            "32                       Australia     576605.12       369155.00   \n",
            "56                            Fiji     727423.20       727423.20   \n",
            "76  Federated States of Micronesia     146875.14       146875.14   \n",
            "79                          Samoa     1678540.98      1678540.98   \n",
            "\n",
            "    Minimum Profit  Average Profit  \n",
            "0        951410.50    9.514105e+05  \n",
            "5        285087.64    2.850876e+05  \n",
            "19       337937.60    3.379376e+05  \n",
            "23         5270.67    5.270670e+03  \n",
            "26        13009.18    1.300918e+04  \n",
            "32        60418.38    1.922017e+05  \n",
            "56       727423.20    7.274232e+05  \n",
            "76       146875.14    1.468751e+05  \n",
            "79      1678540.98    1.678541e+06  \n"
          ]
        },
        {
          "output_type": "display_data",
          "data": {
            "image/png": "[encoded data removed]",
            "text/plain": [
              "<Figure size 432x288 with 1 Axes>"
            ]
          },
          "metadata": {
            "needs_background": "light"
          }
        }
      ]
    },
    {
      "cell_type": "code",
      "metadata": {
        "id": "K4QC0Hnv_yn1"
      },
      "source": [
        ""
      ],
      "execution_count": null,
      "outputs": []
    }
  ]
}