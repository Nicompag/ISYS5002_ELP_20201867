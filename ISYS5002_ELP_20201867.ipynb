{
  "nbformat": 4,
  "nbformat_minor": 0,
  "metadata": {
    "colab": {
      "name": "ISYS5002_ELP_20201867.ipynb",
      "provenance": [],
      "authorship_tag": "ABX9TyMCbVY2FeGg3yBuTf/W0iOc",
      "include_colab_link": true
    },
    "kernelspec": {
      "name": "python3",
      "display_name": "Python 3"
    },
    "language_info": {
      "name": "python"
    }
  },
  "cells": [
    {
      "cell_type": "markdown",
      "metadata": {
        "id": "view-in-github",
        "colab_type": "text"
      },
      "source": [
        "<a href=\"https://colab.research.google.com/github/Nicompag/ISYS5002_ELP_20201867/blob/main/ISYS5002_ELP_20201867.ipynb\" target=\"_parent\"><img src=\"https://colab.research.google.com/assets/colab-badge.svg\" alt=\"Open In Colab\"/></a>"
      ]
    },
    {
      "cell_type": "markdown",
      "metadata": {
        "id": "6waE-CXe0ou5"
      },
      "source": [
        "2. A comment is an explanation or annotation in the source code of a computer program. Well commented functions are helpful to other programmers to understand the code better. The following function has no comments. Add some comments that explain the purpose and actions of the code in the following method."
      ]
    },
    {
      "cell_type": "code",
      "metadata": {
        "id": "Sbo7Ko-I0urB"
      },
      "source": [
        "def get_url(search_term, template): #this line defines a function. The function takes two inputs: search_term and template\n",
        "  search_term = search_term.replace(' ', '+') #this line replaces all ' ' in the input search_term with '+' and stores it in the variable search_term\n",
        "  url = template.format(search_term) #this line replaces '{}' in the input template with the variable search_term and stores it in the variable url\n",
        "  url += '&page={}' #this line adds '&page={}' to the end of the variable url\n",
        "  return url #this line returns the variable url "
      ],
      "execution_count": null,
      "outputs": []
    },
    {
      "cell_type": "markdown",
      "metadata": {
        "id": "PiFytnIX5Ao_"
      },
      "source": [
        "\n",
        "3. In computer programming there are three kinds of errors: syntax errors, runtime errors, and logic errors. The code fragment below is meant to calculate a car’s fuel economy after reading in the distance travelled and amount of petrol used. The fuel economy is calculated by the following formula: kmPerLitre = kilometers / litres. The code fragment contains both syntax and logic errors. Identify and correct at least five errors in the following code."
      ]
    },
    {
      "cell_type": "code",
      "metadata": {
        "id": "xqb4IgwN5B2_"
      },
      "source": [
        "#Original code\n",
        "\n",
        "def efficiency(dist, gas) #after the the first line of the function must be a ':'\n",
        "    return dist/gas #is too much indented (2 indents instead of 1)\n",
        "\n",
        "km = input (\"How far did your car travel? (In kilometers?) ) #there is a '\"' missing after the second last bracket, the input must be type float or int to perform the calculation of the defined function\n",
        "liters = input (\"How much gas did you use? (In liters)\" #there is a bracket \")\" missing at the end, the input must be type float or int to perform the calculation of the defined function\n",
        "\n",
        "MPG = efficiency(dist_traveled, Liters) #the variable dist_traveled is not defined, it should be the variable km, the variable Liters is not defined, it should be liters as python is case sensitive\n",
        "print MPG #there are two brackets missing \"(\" and \")\""
      ],
      "execution_count": null,
      "outputs": []
    },
    {
      "cell_type": "code",
      "metadata": {
        "colab": {
          "base_uri": "https://localhost:8080/"
        },
        "id": "sCfPtIva5Yqp",
        "outputId": "c6fa8f87-476b-4576-c594-978840cc446e"
      },
      "source": [
        "#Correct code\n",
        "\n",
        "def efficiency(dist, gas):\n",
        "  return dist/gas\n",
        "\n",
        "km = float(input(\"How far did your car travel? (In kilometers?)\" ))\n",
        "liters = float(input (\"How much gas did you use? (In liters)\"))\n",
        "\n",
        "MPG = efficiency(km, liters)\n",
        "print(MPG)"
      ],
      "execution_count": 4,
      "outputs": [
        {
          "output_type": "stream",
          "name": "stdout",
          "text": [
            "How far did your car travel? (In kilometers?)500\n",
            "How much gas did you use? (In liters)25\n",
            "20.0\n"
          ]
        }
      ]
    },
    {
      "cell_type": "markdown",
      "metadata": {
        "id": "tD6f8U6k9byW"
      },
      "source": [
        "\n",
        "5. Write a program the reads in sales.csv and calculates the maximum, minimum and average profit for each country in the Australia and Oceania region. For each country in the Australia and Oceania region the plot their total profit. (Hint: read the CSV into a Pandas dataframe, create a new dataframe for the region, and use the new dataframe for the calculations and bar chart)"
      ]
    },
    {
      "cell_type": "code",
      "metadata": {
        "colab": {
          "base_uri": "https://localhost:8080/",
          "height": 1000
        },
        "id": "uJff24n-9-2p",
        "outputId": "d0690aa0-972c-40f2-a6a9-b0957ce95f17"
      },
      "source": [
        "import pandas as pd\n",
        "import matplotlib.pyplot as plt\n",
        "\n",
        "data = pd.read_csv('sales.csv')\n",
        "raw_data = data.loc[data[\"Region\"] == \"Australia and Oceania\"]\n",
        "\n",
        "region = pd.DataFrame()\n",
        "\n",
        "region[\"Country\"] = raw_data[\"Country\"]\n",
        "region[\"Total Profit\"] = raw_data[\"Total Profit\"]\n",
        "\n",
        "aus = region.loc[region[\"Country\"] == \"Australia\"]\n",
        "aus_mean = aus[\"Total Profit\"].mean()\n",
        "aus_min = aus[\"Total Profit\"].min()\n",
        "aus_max = aus[\"Total Profit\"].max()\n",
        "aus_total = aus[\"Total Profit\"].sum()\n",
        "\n",
        "region = region.drop_duplicates(subset = [\"Country\"], keep = \"first\")\n",
        "region[\"Maximum Profit\"] = region[\"Total Profit\"]\n",
        "region[\"Minimum Profit\"] = region[\"Total Profit\"]\n",
        "region[\"Average Profit\"] = region[\"Total Profit\"]\n",
        "\n",
        "region.at[32,\"Maximum Profit\"] = aus_max\n",
        "region.at[32,\"Minimum Profit\"] = aus_min\n",
        "region.at[32,\"Average Profit\"] = aus_mean\n",
        "region.at[32,\"Total Profit\"] = aus_total\n",
        "\n",
        "print(region)\n",
        "\n",
        "ax = region.plot.bar(x='Country', y='Total Profit', rot=0)\n",
        "ax.ticklabel_format(style='plain')\n",
        "plt.show()"
      ],
      "execution_count": 51,
      "outputs": [
        {
          "output_type": "stream",
          "name": "stdout",
          "text": [
            "                           Country  Total Profit  Maximum Profit  \\\n",
            "0                           Tuvalu     951410.50       951410.50   \n",
            "5                  Solomon Islands     285087.64       285087.64   \n",
            "19                      East Timor     337937.60       337937.60   \n",
            "23                     New Zealand       5270.67         5270.67   \n",
            "26                        Kiribati      13009.18        13009.18   \n",
            "32                       Australia     576605.12       369155.00   \n",
            "56                            Fiji     727423.20       727423.20   \n",
            "76  Federated States of Micronesia     146875.14       146875.14   \n",
            "79                          Samoa     1678540.98      1678540.98   \n",
            "\n",
            "    Minimum Profit  Average Profit  \n",
            "0        951410.50    9.514105e+05  \n",
            "5        285087.64    2.850876e+05  \n",
            "19       337937.60    3.379376e+05  \n",
            "23         5270.67    5.270670e+03  \n",
            "26        13009.18    1.300918e+04  \n",
            "32        60418.38    1.922017e+05  \n",
            "56       727423.20    7.274232e+05  \n",
            "76       146875.14    1.468751e+05  \n",
            "79      1678540.98    1.678541e+06  \n"
          ]
        },
        {
          "output_type": "error",
          "ename": "AttributeError",
          "evalue": "ignored",
          "traceback": [
            "\u001b[0;31m---------------------------------------------------------------------------\u001b[0m",
            "\u001b[0;31mAttributeError\u001b[0m                            Traceback (most recent call last)",
            "\u001b[0;32m/usr/local/lib/python3.7/dist-packages/matplotlib/axes/_base.py\u001b[0m in \u001b[0;36mticklabel_format\u001b[0;34m(self, axis, style, scilimits, useOffset, useLocale, useMathText)\u001b[0m\n\u001b[1;32m   2829\u001b[0m                 \u001b[0;32mif\u001b[0m \u001b[0mis_sci_style\u001b[0m \u001b[0;32mis\u001b[0m \u001b[0;32mnot\u001b[0m \u001b[0;32mNone\u001b[0m\u001b[0;34m:\u001b[0m\u001b[0;34m\u001b[0m\u001b[0;34m\u001b[0m\u001b[0m\n\u001b[0;32m-> 2830\u001b[0;31m                     \u001b[0maxis\u001b[0m\u001b[0;34m.\u001b[0m\u001b[0mmajor\u001b[0m\u001b[0;34m.\u001b[0m\u001b[0mformatter\u001b[0m\u001b[0;34m.\u001b[0m\u001b[0mset_scientific\u001b[0m\u001b[0;34m(\u001b[0m\u001b[0mis_sci_style\u001b[0m\u001b[0;34m)\u001b[0m\u001b[0;34m\u001b[0m\u001b[0;34m\u001b[0m\u001b[0m\n\u001b[0m\u001b[1;32m   2831\u001b[0m                 \u001b[0;32mif\u001b[0m \u001b[0mscilimits\u001b[0m \u001b[0;32mis\u001b[0m \u001b[0;32mnot\u001b[0m \u001b[0;32mNone\u001b[0m\u001b[0;34m:\u001b[0m\u001b[0;34m\u001b[0m\u001b[0;34m\u001b[0m\u001b[0m\n",
            "\u001b[0;31mAttributeError\u001b[0m: 'FixedFormatter' object has no attribute 'set_scientific'",
            "\nDuring handling of the above exception, another exception occurred:\n",
            "\u001b[0;31mAttributeError\u001b[0m                            Traceback (most recent call last)",
            "\u001b[0;32m<ipython-input-51-2254648b9ef3>\u001b[0m in \u001b[0;36m<module>\u001b[0;34m()\u001b[0m\n\u001b[1;32m     29\u001b[0m \u001b[0;34m\u001b[0m\u001b[0m\n\u001b[1;32m     30\u001b[0m \u001b[0max\u001b[0m \u001b[0;34m=\u001b[0m \u001b[0mregion\u001b[0m\u001b[0;34m.\u001b[0m\u001b[0mplot\u001b[0m\u001b[0;34m.\u001b[0m\u001b[0mbar\u001b[0m\u001b[0;34m(\u001b[0m\u001b[0mx\u001b[0m\u001b[0;34m=\u001b[0m\u001b[0;34m'Country'\u001b[0m\u001b[0;34m,\u001b[0m \u001b[0my\u001b[0m\u001b[0;34m=\u001b[0m\u001b[0;34m'Total Profit'\u001b[0m\u001b[0;34m,\u001b[0m \u001b[0mrot\u001b[0m\u001b[0;34m=\u001b[0m\u001b[0;36m0\u001b[0m\u001b[0;34m)\u001b[0m\u001b[0;34m\u001b[0m\u001b[0;34m\u001b[0m\u001b[0m\n\u001b[0;32m---> 31\u001b[0;31m \u001b[0max\u001b[0m\u001b[0;34m.\u001b[0m\u001b[0mticklabel_format\u001b[0m\u001b[0;34m(\u001b[0m\u001b[0mstyle\u001b[0m\u001b[0;34m=\u001b[0m\u001b[0;34m'plain'\u001b[0m\u001b[0;34m)\u001b[0m\u001b[0;34m\u001b[0m\u001b[0;34m\u001b[0m\u001b[0m\n\u001b[0m\u001b[1;32m     32\u001b[0m \u001b[0mplt\u001b[0m\u001b[0;34m.\u001b[0m\u001b[0mshow\u001b[0m\u001b[0;34m(\u001b[0m\u001b[0;34m)\u001b[0m\u001b[0;34m\u001b[0m\u001b[0;34m\u001b[0m\u001b[0m\n",
            "\u001b[0;32m/usr/local/lib/python3.7/dist-packages/matplotlib/axes/_base.py\u001b[0m in \u001b[0;36mticklabel_format\u001b[0;34m(self, axis, style, scilimits, useOffset, useLocale, useMathText)\u001b[0m\n\u001b[1;32m   2839\u001b[0m         \u001b[0;32mexcept\u001b[0m \u001b[0mAttributeError\u001b[0m\u001b[0;34m:\u001b[0m\u001b[0;34m\u001b[0m\u001b[0;34m\u001b[0m\u001b[0m\n\u001b[1;32m   2840\u001b[0m             raise AttributeError(\n\u001b[0;32m-> 2841\u001b[0;31m                 \"This method only works with the ScalarFormatter\")\n\u001b[0m\u001b[1;32m   2842\u001b[0m \u001b[0;34m\u001b[0m\u001b[0m\n\u001b[1;32m   2843\u001b[0m     \u001b[0;32mdef\u001b[0m \u001b[0mlocator_params\u001b[0m\u001b[0;34m(\u001b[0m\u001b[0mself\u001b[0m\u001b[0;34m,\u001b[0m \u001b[0maxis\u001b[0m\u001b[0;34m=\u001b[0m\u001b[0;34m'both'\u001b[0m\u001b[0;34m,\u001b[0m \u001b[0mtight\u001b[0m\u001b[0;34m=\u001b[0m\u001b[0;32mNone\u001b[0m\u001b[0;34m,\u001b[0m \u001b[0;34m**\u001b[0m\u001b[0mkwargs\u001b[0m\u001b[0;34m)\u001b[0m\u001b[0;34m:\u001b[0m\u001b[0;34m\u001b[0m\u001b[0;34m\u001b[0m\u001b[0m\n",
            "\u001b[0;31mAttributeError\u001b[0m: This method only works with the ScalarFormatter"
          ]
        },
        {
          "output_type": "display_data",
          "data": {
            "image/png": "[encoded data removed]",
            "text/plain": [
              "<Figure size 432x288 with 1 Axes>"
            ]
          },
          "metadata": {
            "needs_background": "light"
          }
        }
      ]
    },
    {
      "cell_type": "code",
      "metadata": {
        "id": "K4QC0Hnv_yn1"
      },
      "source": [
        ""
      ],
      "execution_count": null,
      "outputs": []
    }
  ]
}